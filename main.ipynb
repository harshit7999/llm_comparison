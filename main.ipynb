{
 "cells": [
  {
   "cell_type": "code",
   "execution_count": 1,
   "metadata": {},
   "outputs": [],
   "source": [
    "import os\n",
    "import json\n",
    "from transformers import AutoTokenizer, AutoModelForCausalLM, pipeline\n",
    "import torch\n",
    "from typing import List, Dict"
   ]
  },
  {
   "cell_type": "code",
   "execution_count": 2,
   "metadata": {},
   "outputs": [],
   "source": [
    "# Uncomment the models you want to use\n",
    "MODELS = [\n",
    "\"microsoft/phi-1_5\",\n",
    "# \"microsoft/phi-2\",\n",
    "# \"TinyLlama/TinyLlama-1.1B-Chat-v1.0\",\n",
    "# \"TinyLlama/TinyLlama_v1.1_math_code\",\n",
    "# \"Qwen/Qwen3-1.7B\",\n",
    "# \"Qwen/Qwen2.5-Math-1.5B\",\n",
    "# \"microsoft/rho-math-1b-v0.1\",\n",
    "# \"google/gemma-2b\",\n",
    "# \"tiiuae/falcon-rw-1b\",\n",
    "# \"stabilityai/stablelm-2-zephyr-1_6b\",\n",
    "# \"stabilityai/stablelm-zephyr-3b\",\n",
    "# \"openbmb/MiniCPM-2B-dpo-bf16\",\n",
    "# \"apple/OpenELM-3B\",\n",
    "# \"mtgv/MobileLLaMA-2.7B-Base\",\n",
    "]"
   ]
  },
  {
   "cell_type": "code",
   "execution_count": 8,
   "metadata": {},
   "outputs": [],
   "source": [
    "def load_pipeline(model_name: str):\n",
    "    device = torch.device(\"cuda\" if torch.cuda.is_available() else \"cpu\")\n",
    "\n",
    "    tokenizer = AutoTokenizer.from_pretrained(model_name, trust_remote_code=True)\n",
    "    model = AutoModelForCausalLM.from_pretrained(\n",
    "        model_name,\n",
    "        torch_dtype=torch.float16 if device.type == \"cuda\" else torch.float32,\n",
    "        trust_remote_code=True\n",
    "    )\n",
    "    return pipeline(\"text-generation\", model=model, tokenizer=tokenizer, device=0 if device.type == \"cuda\" else -1)"
   ]
  },
  {
   "cell_type": "code",
   "execution_count": null,
   "metadata": {},
   "outputs": [],
   "source": [
    "# Run this only for model apple/OpenELM-3B\n",
    "\n",
    "# def load_pipeline(model_name: str):\n",
    "#     device = torch.device(\"cuda\" if torch.cuda.is_available() else \"cpu\")\n",
    "\n",
    "#     tokenizer = AutoTokenizer.from_pretrained(model_name, trust_remote_code=True)\n",
    "#     model = AutoModelForCausalLM.from_pretrained(\n",
    "#         model_name,\n",
    "#         torch_dtype=torch.float16 if device.type == \"cuda\" else torch.float32,\n",
    "#         trust_remote_code=True\n",
    "#     )\n",
    "#     return pipeline(\"text-generation\", model=model, tokenizer=tokenizer, device=device.index if device.type == \"cuda\" else -1)"
   ]
  },
  {
   "cell_type": "code",
   "execution_count": 4,
   "metadata": {},
   "outputs": [],
   "source": [
    "def evaluate(config: Dict):\n",
    "  questions = config.get(\"questions\", [])\n",
    "  pre_text = config.get(\"prompt_pre_text\", \"\")\n",
    "  post_text = config.get(\"prompt_post_text\", \"\")\n",
    "  responses = {}\n",
    "  for model_name in MODELS:\n",
    "    responses[model_name] = []\n",
    "    model_pipe = load_pipeline(model_name)\n",
    "    count = 1\n",
    "    for question in questions:\n",
    "      prompt = f\"{pre_text} {question}\\n\\n{post_text}\"\n",
    "      response = model_pipe(prompt, max_new_tokens=1000, do_sample=False)[0]['generated_text']\n",
    "      print(f\"------------------------------------------------\")\n",
    "      print(f\"Question: {count}\")\n",
    "      print(response)\n",
    "      responses[model_name].append(response)\n",
    "      count += 1\n",
    "  return responses"
   ]
  },
  {
   "cell_type": "code",
   "execution_count": 5,
   "metadata": {},
   "outputs": [],
   "source": [
    "def get_maths_questions(questions_file):\n",
    "    with open(questions_file, \"r\") as f:\n",
    "        questions = json.load(f)\n",
    "    return questions"
   ]
  },
  {
   "cell_type": "code",
   "execution_count": 6,
   "metadata": {},
   "outputs": [],
   "source": [
    "def main():\n",
    "  config = get_maths_questions(\"maths.json\")\n",
    "  result = evaluate(config)\n",
    "  print(json.dumps(result, indent=2))\n",
    "  return"
   ]
  },
  {
   "cell_type": "code",
   "execution_count": null,
   "metadata": {},
   "outputs": [],
   "source": [
    "main()"
   ]
  },
  {
   "cell_type": "code",
   "execution_count": null,
   "metadata": {},
   "outputs": [],
   "source": []
  }
 ],
 "metadata": {
  "kernelspec": {
   "display_name": "ml",
   "language": "python",
   "name": "python3"
  },
  "language_info": {
   "codemirror_mode": {
    "name": "ipython",
    "version": 3
   },
   "file_extension": ".py",
   "mimetype": "text/x-python",
   "name": "python",
   "nbconvert_exporter": "python",
   "pygments_lexer": "ipython3",
   "version": "3.13.2"
  }
 },
 "nbformat": 4,
 "nbformat_minor": 2
}
